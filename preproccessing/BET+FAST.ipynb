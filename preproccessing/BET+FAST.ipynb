{
 "cells": [
  {
   "cell_type": "code",
   "execution_count": null,
   "metadata": {
    "collapsed": false,
    "scrolled": true
   },
   "outputs": [
    {
     "name": "stdout",
     "output_type": "stream",
     "text": [
      "-------- freesurfer-Linux-centos4_x86_64-stable-pub-v5.3.0 --------\n",
      "Setting up environment for FreeSurfer/FS-FAST (and FSL)\n",
      "FREESURFER_HOME   /data/henry6/keshavan/software/freesurfer\n",
      "FSFAST_HOME       /data/henry6/keshavan/software/freesurfer/fsfast\n",
      "FSF_OUTPUT_FORMAT nii.gz\n",
      "SUBJECTS_DIR      /data/henry6/PBR/surfaces\n",
      "MNI_DIR           /data/henry6/keshavan/software/freesurfer/mni\n",
      "FSL_DIR           /netopt/fsl5/\n",
      "\u001b[1;37m\u001b[44m\u001b[0;0m\u001b[0;33m[21:49]\u001b[0m\u001b[1;32m[2.36]\u001b[0m\u001b[1;32m[-73%]\u001b[0m\u001b[1;39musuresh@euler:uday$\u001b[0m "
     ]
    }
   ],
   "source": [
    "!bash"
   ]
  },
  {
   "cell_type": "code",
   "execution_count": 2,
   "metadata": {
    "collapsed": false
   },
   "outputs": [],
   "source": [
    "import nipype.interfaces.fsl as fsl "
   ]
  },
  {
   "cell_type": "code",
   "execution_count": 3,
   "metadata": {
    "collapsed": false
   },
   "outputs": [
    {
     "data": {
      "text/plain": [
       "nipype.interfaces.fsl.preprocess.BET"
      ]
     },
     "execution_count": 3,
     "metadata": {},
     "output_type": "execute_result"
    }
   ],
   "source": [
    "fsl.BET"
   ]
  },
  {
   "cell_type": "code",
   "execution_count": 4,
   "metadata": {
    "collapsed": false
   },
   "outputs": [
    {
     "name": "stdout",
     "output_type": "stream",
     "text": [
      "bet ms1297-mse4664-007-MPRAGE_iso_1_pve_1.nii.gz /data/henry1/uday/ms1297-mse4664-007-MPRAGE_iso_1_pve_1_brain.nii.gz -f 0.70\n"
     ]
    }
   ],
   "source": [
    "btr = fsl.BET()\n",
    "#placeholder\n",
    "btr.inputs.in_file = 'ms1297-mse4664-007-MPRAGE_iso_1_pve_1.nii.gz'\n",
    "btr.inputs.frac = 0.7\n",
    "#frac = fractional intensity threshold \n",
    "print(btr.cmdline)\n",
    "result = btr.run() "
   ]
  },
  {
   "cell_type": "code",
   "execution_count": 5,
   "metadata": {
    "collapsed": false
   },
   "outputs": [
    {
     "name": "stdout",
     "output_type": "stream",
     "text": [
      "\n",
      "inskull_mask_file = <undefined>\n",
      "inskull_mesh_file = <undefined>\n",
      "mask_file = <undefined>\n",
      "meshfile = <undefined>\n",
      "out_file = /data/henry1/uday/ms1297-mse4664-007-MPRAGE_iso_1_pve_1_brain.nii.gz\n",
      "outline_file = <undefined>\n",
      "outskin_mask_file = <undefined>\n",
      "outskin_mesh_file = <undefined>\n",
      "outskull_mask_file = <undefined>\n",
      "outskull_mesh_file = <undefined>\n",
      "skull_mask_file = <undefined>\n",
      "\n"
     ]
    }
   ],
   "source": [
    "print(result.outputs)"
   ]
  },
  {
   "cell_type": "code",
   "execution_count": 6,
   "metadata": {
    "collapsed": false
   },
   "outputs": [],
   "source": [
    "fastr = fsl.FAST()\n",
    "#again, just a placeholder \n",
    "fastr.inputs.in_files = result.outputs.out_file\n",
    "#using the outfile of BET as the infile for FAST\n",
    "out = fastr.run() \n",
    "#assuming it automatically drops the outfile in the same directory "
   ]
  },
  {
   "cell_type": "code",
   "execution_count": null,
   "metadata": {
    "collapsed": true
   },
   "outputs": [],
   "source": []
  }
 ],
 "metadata": {
  "kernelspec": {
   "display_name": "Python 3",
   "language": "python",
   "name": "python3"
  },
  "language_info": {
   "codemirror_mode": {
    "name": "ipython",
    "version": 3
   },
   "file_extension": ".py",
   "mimetype": "text/x-python",
   "name": "python",
   "nbconvert_exporter": "python",
   "pygments_lexer": "ipython3",
   "version": "3.5.2"
  }
 },
 "nbformat": 4,
 "nbformat_minor": 0
}
