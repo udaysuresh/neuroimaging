{
 "cells": [
  {
   "cell_type": "code",
   "execution_count": 7,
   "metadata": {
    "collapsed": true
   },
   "outputs": [],
   "source": [
    "import nipype.interfaces.fsl as fsl\n",
    "import nipype.pipeline.engine as pe\n",
    "import nipype.interfaces.freesurfer as fs\n",
    "import nipype.interfaces.io as nio"
   ]
  },
  {
   "cell_type": "code",
   "execution_count": 8,
   "metadata": {
    "collapsed": false
   },
   "outputs": [],
   "source": [
    "bet = pe.MapNode(interface=fsl.BET(), name = 'bet', iterfield=['frac'])\n",
    "bet.inputs.in_file = '/data/henry1/uday/ms1297-mse4664-007-MPRAGE_iso_1.nii.gz'\n",
    "bet.inputs.frac = [0.7, 0.5, 0.3]\n",
    "#can now adjust to process through different fracs\n",
    "#fast = pe.Node(interface=fsl.FAST(), name='fast')\n",
    "fast = pe.MapNode(interface=fsl.FAST(), name='fast', iterfield=['in_files'])\n",
    "ss = pe.MapNode(interface=fs.SegStats(), name='ss', iterfield=['segmentation_file'])\n",
    "#iterate over a list of fast outputs as a mapnode, iterfield = in_files  "
   ]
  },
  {
   "cell_type": "code",
   "execution_count": 9,
   "metadata": {
    "collapsed": false,
    "scrolled": true
   },
   "outputs": [],
   "source": [
    "#setting up the DataSink for organizing outputs \n",
    "ds = pe.Node(interface=nio.DataSink(), name=\"ds\", iterfield=['in_files'])\n",
    "ds.inputs.base_directory = '/data/henry1/uday/ds_output'\n",
    "#this is broken -- need to find a way to use DataSink as MapNode\n",
    "#fixed, use base_directory rather than base.directory\n",
    "#no object DataSink within this -- iterfield is broken too | use infields keyword arg "
   ]
  },
  {
   "cell_type": "code",
   "execution_count": 10,
   "metadata": {
    "collapsed": true
   },
   "outputs": [],
   "source": [
    "workflow = pe.Workflow(name='MapNodeFlow')\n",
    "workflow.base_dir = '.'"
   ]
  },
  {
   "cell_type": "code",
   "execution_count": 11,
   "metadata": {
    "collapsed": false
   },
   "outputs": [],
   "source": [
    "workflow.connect([(bet, fast, [('out_file', 'in_files')]), (fast, ss,[('mixeltype', 'segmentation_file')]), (ss, ds, [('avgwf_file', 'in_files')])]) \n",
    "#for FAST use mixeltypes instead of out_files \n",
    "#datasink works the same but you can invent the input and it'll create a file though \n",
    "#unsure about this third connection of ds to ss \n",
    "#no ss outfiles -- fixed by using avgwf_file"
   ]
  },
  {
   "cell_type": "code",
   "execution_count": null,
   "metadata": {
    "collapsed": false
   },
   "outputs": [],
   "source": [
    "workflow.run() \n",
    "#check the JSONS for t1 files and know that eventually the UTE files will have another field called UTE \n",
    "#less status.JSON\n",
    "#check nii/status.JSON"
   ]
  },
  {
   "cell_type": "code",
   "execution_count": null,
   "metadata": {
    "collapsed": true
   },
   "outputs": [],
   "source": []
  }
 ],
 "metadata": {
  "kernelspec": {
   "display_name": "Python 3",
   "language": "python",
   "name": "python3"
  },
  "language_info": {
   "codemirror_mode": {
    "name": "ipython",
    "version": 3
   },
   "file_extension": ".py",
   "mimetype": "text/x-python",
   "name": "python",
   "nbconvert_exporter": "python",
   "pygments_lexer": "ipython3",
   "version": "3.5.2"
  }
 },
 "nbformat": 4,
 "nbformat_minor": 0
}
